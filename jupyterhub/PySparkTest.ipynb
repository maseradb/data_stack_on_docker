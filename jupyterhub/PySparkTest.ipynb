{
 "cells": [
  {
   "cell_type": "code",
   "execution_count": null,
   "id": "43ac2c5c",
   "metadata": {
    "vscode": {
     "languageId": "plaintext"
    }
   },
   "outputs": [],
   "source": [
    "!export JAVA_HOME=/usr/lib/jvm/java-17-openjdk-amd64"
   ]
  },
  {
   "cell_type": "code",
   "execution_count": null,
   "id": "054162ea",
   "metadata": {
    "vscode": {
     "languageId": "plaintext"
    }
   },
   "outputs": [],
   "source": [
    "from pyspark.sql import SparkSession\n",
    "from random import random\n",
    "\n",
    "# Create Spark session connecting to the cluster\n",
    "spark = SparkSession.builder \\\n",
    "    .appName(\"JupyterPiEstimation\") \\\n",
    "    .master(\"spark://spark-master:7077\") \\\n",
    "    .getOrCreate()\n",
    "sc = spark.sparkContext"
   ]
  },
  {
   "cell_type": "code",
   "execution_count": null,
   "id": "00a64d76",
   "metadata": {
    "vscode": {
     "languageId": "plaintext"
    }
   },
   "outputs": [],
   "source": [
    "NUM_SAMPLES = 1000000\n",
    "\n",
    "def inside(_):\n",
    "    x, y = random(), random()\n",
    "    return x*x + y*y < 1\n",
    "\n",
    "count = sc.parallelize(range(0, NUM_SAMPLES)).filter(inside).count()\n",
    "pi_estimate = 4.0 * count / NUM_SAMPLES\n",
    "print(f'Pi is roughly {pi_estimate}')"
   ]
  },
  {
   "cell_type": "code",
   "execution_count": null,
   "id": "871e0e93",
   "metadata": {
    "vscode": {
     "languageId": "plaintext"
    }
   },
   "outputs": [],
   "source": [
    "spark.stop()"
   ]
  }
 ],
 "metadata": {
  "language_info": {
   "name": "python"
  }
 },
 "nbformat": 4,
 "nbformat_minor": 5
}
